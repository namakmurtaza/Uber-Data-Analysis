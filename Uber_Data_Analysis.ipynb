{
  "nbformat": 4,
  "nbformat_minor": 0,
  "metadata": {
    "colab": {
      "private_outputs": true,
      "provenance": [],
      "authorship_tag": "ABX9TyN945Imp4kGTq0vfZ3sYxQB",
      "include_colab_link": true
    },
    "kernelspec": {
      "name": "python3",
      "display_name": "Python 3"
    },
    "language_info": {
      "name": "python"
    }
  },
  "cells": [
    {
      "cell_type": "markdown",
      "metadata": {
        "id": "view-in-github",
        "colab_type": "text"
      },
      "source": [
        "<a href=\"https://colab.research.google.com/github/namakmurtaza/Uber-Data-Analysis/blob/main/Uber_Data_Analysis.ipynb\" target=\"_parent\"><img src=\"https://colab.research.google.com/assets/colab-badge.svg\" alt=\"Open In Colab\"/></a>"
      ]
    },
    {
      "cell_type": "code",
      "execution_count": null,
      "metadata": {
        "id": "gOEkyWZN7DSW"
      },
      "outputs": [],
      "source": [
        "import pandas as pd\n",
        "import numpy as np\n",
        "import matplotlib.pyplot as plt\n",
        "import seaborn as sns"
      ]
    },
    {
      "cell_type": "code",
      "source": [
        "dataset = pd.read_csv(\"/content/UberDataset (1).csv\")"
      ],
      "metadata": {
        "id": "vF4yo18-7OcV"
      },
      "execution_count": null,
      "outputs": []
    },
    {
      "cell_type": "code",
      "source": [
        "dataset"
      ],
      "metadata": {
        "id": "J4ySg_O57Unr"
      },
      "execution_count": null,
      "outputs": []
    },
    {
      "cell_type": "code",
      "source": [
        "dataset.shape"
      ],
      "metadata": {
        "id": "yMjNW1s-7XfN"
      },
      "execution_count": null,
      "outputs": []
    },
    {
      "cell_type": "code",
      "source": [
        "dataset.info()"
      ],
      "metadata": {
        "id": "-2-m26TS7X4h"
      },
      "execution_count": null,
      "outputs": []
    },
    {
      "cell_type": "markdown",
      "source": [
        "Data Preprocessing\n",
        "# New Section"
      ],
      "metadata": {
        "id": "KcwUm5MS7bif"
      }
    },
    {
      "cell_type": "code",
      "source": [
        "dataset['PURPOSE'].fillna(\"NOT\", inplace = True)"
      ],
      "metadata": {
        "id": "iaK0XSHZ7bK6"
      },
      "execution_count": null,
      "outputs": []
    },
    {
      "cell_type": "code",
      "source": [
        "dataset.head()"
      ],
      "metadata": {
        "id": "IrnakKUf7eKe"
      },
      "execution_count": null,
      "outputs": []
    },
    {
      "cell_type": "code",
      "source": [
        "dataset['START_DATE'] = pd.to_datetime(dataset['START_DATE'], errors = 'coerce')\n",
        "dataset['END_DATE'] = pd.to_datetime(dataset['END_DATE'], errors = 'coerce')\n"
      ],
      "metadata": {
        "id": "Zp_JHHkB7mHz"
      },
      "execution_count": null,
      "outputs": []
    },
    {
      "cell_type": "code",
      "source": [
        "dataset.info()\n"
      ],
      "metadata": {
        "id": "NI0aEbjy7mj2"
      },
      "execution_count": null,
      "outputs": []
    },
    {
      "cell_type": "code",
      "source": [
        "from datetime import datetime\n",
        "dataset['date'] = pd.DatetimeIndex(dataset['START_DATE']).date\n",
        "dataset['time'] = pd.DatetimeIndex(dataset['START_DATE']).hour"
      ],
      "metadata": {
        "id": "hhfIBUoM7ofo"
      },
      "execution_count": null,
      "outputs": []
    },
    {
      "cell_type": "code",
      "source": [
        "dataset.head()"
      ],
      "metadata": {
        "id": "x4kFc-VG7sbh"
      },
      "execution_count": null,
      "outputs": []
    },
    {
      "cell_type": "code",
      "source": [
        "dataset['day-night'] = pd.cut(x=dataset['time'],bins = [0,10,15,19,24],labels =['Morning','Afternoon','Evening','Night'])"
      ],
      "metadata": {
        "id": "e-_T2etf7vRs"
      },
      "execution_count": null,
      "outputs": []
    },
    {
      "cell_type": "code",
      "source": [
        "dataset.head()\n"
      ],
      "metadata": {
        "id": "Z2vosdiE8DzI"
      },
      "execution_count": null,
      "outputs": []
    },
    {
      "cell_type": "code",
      "source": [
        "dataset.dropna(inplace = True)\n"
      ],
      "metadata": {
        "id": "V3sWHnCc8F0C"
      },
      "execution_count": null,
      "outputs": []
    },
    {
      "cell_type": "code",
      "source": [
        "dataset.shape"
      ],
      "metadata": {
        "id": "jqX3tL-M8HcY"
      },
      "execution_count": null,
      "outputs": []
    },
    {
      "cell_type": "markdown",
      "source": [
        "# **Data Visualization**"
      ],
      "metadata": {
        "id": "T9vTkNJy8IBD"
      }
    },
    {
      "cell_type": "code",
      "source": [
        "plt.figure(figsize=(20,5))\n",
        "plt.subplot(1,2,1)\n",
        "sns.countplot(dataset['CATEGORY'])\n",
        "plt.xticks(rotation =90)\n",
        "plt.subplot(1,2,2)\n",
        "sns.countplot(dataset['PURPOSE'])\n"
      ],
      "metadata": {
        "id": "cbCXjBGl8NH3"
      },
      "execution_count": null,
      "outputs": []
    },
    {
      "cell_type": "code",
      "source": [
        "sns.countplot(dataset['day-night'])"
      ],
      "metadata": {
        "id": "JpNcgDHX8RXo"
      },
      "execution_count": null,
      "outputs": []
    },
    {
      "cell_type": "code",
      "source": [
        "dataset.head()\n"
      ],
      "metadata": {
        "id": "EiK_JMRC8UNH"
      },
      "execution_count": null,
      "outputs": []
    },
    {
      "cell_type": "code",
      "source": [
        "dataset['MONTH'] = pd.DatetimeIndex(dataset['START_DATE']).month# START_DATE se\n",
        "month_label = {1.0: 'Jan', 2.0: 'Feb', 3.0: 'Mar', 4.0: 'April',\n",
        " 5.0: 'May', 6.0: 'June', 7.0: 'July', 8.0: 'Aug',\n",
        " 9.0: 'Sep', 10.0: 'Oct', 11.0: 'Nov', 12.0: 'Dec'}"
      ],
      "metadata": {
        "id": "Zx4-npKo8Xjr"
      },
      "execution_count": null,
      "outputs": []
    },
    {
      "cell_type": "code",
      "source": [
        "dataset[\"MONTH\"] = dataset.MONTH.map(month_label) # Number months ko string name\n",
        "mon = dataset.MONTH.value_counts(sort=False)"
      ],
      "metadata": {
        "id": "fJ5vtTWZ8Yqp"
      },
      "execution_count": null,
      "outputs": []
    },
    {
      "cell_type": "code",
      "source": [
        "dataset.head()\n"
      ],
      "metadata": {
        "id": "3bfOgQSV8bCA"
      },
      "execution_count": null,
      "outputs": []
    },
    {
      "cell_type": "code",
      "source": [
        "df = pd.DataFrame({\n",
        " \"MONTHS\": mon.values, # Har month ka total count.\n",
        " \"VALUE COUNT\": dataset.groupby('MONTH', sort=False)['MILES'].max() # Har mo\n",
        "})\n",
        "p = sns.lineplot(data=df) # Line plot banata hai.\n",
        "p.set(xlabel=\"MONTHS\", ylabel=\"VALUE COUNT\")"
      ],
      "metadata": {
        "id": "WRKpcQEz8evN"
      },
      "execution_count": null,
      "outputs": []
    },
    {
      "cell_type": "code",
      "source": [
        "dataset.head()\n"
      ],
      "metadata": {
        "id": "iKeruiJj8hRP"
      },
      "execution_count": null,
      "outputs": []
    },
    {
      "cell_type": "code",
      "source": [
        "dataset['DAY'] = dataset.START_DATE.dt.weekday\n",
        "day_label = {\n",
        " 0: 'Mon', 1:'Tues', 2:'Wed', 3:'Thur',4:'Fri', 5:'Sat', 6:'Sun'}\n",
        "dataset['DAY'] = dataset['DAY'].map(day_label)\n"
      ],
      "metadata": {
        "id": "TkIXS9c78jRh"
      },
      "execution_count": null,
      "outputs": []
    },
    {
      "cell_type": "code",
      "source": [
        "dataset.head()"
      ],
      "metadata": {
        "id": "q4Oec0VU8l8Z"
      },
      "execution_count": null,
      "outputs": []
    },
    {
      "cell_type": "code",
      "source": [
        "day_label =dataset.DAY.value_counts()\n",
        "sns.barplot(x=day_label.index, y= day_label)\n",
        "plt.xlabel('DAY')\n",
        "plt.ylabel('COUNT')"
      ],
      "metadata": {
        "id": "S1zQoM1j8qgq"
      },
      "execution_count": null,
      "outputs": []
    },
    {
      "cell_type": "code",
      "source": [
        "sns.boxplot(dataset['MILES'])\n"
      ],
      "metadata": {
        "id": "o6Uruw_k8tyy"
      },
      "execution_count": null,
      "outputs": []
    },
    {
      "cell_type": "code",
      "source": [
        "sns.boxplot(dataset[dataset['MILES']<100]['MILES'])"
      ],
      "metadata": {
        "id": "sXmFoJzW8wIG"
      },
      "execution_count": null,
      "outputs": []
    },
    {
      "cell_type": "code",
      "source": [
        "sns.boxplot(dataset[dataset['MILES']<40]['MILES'])\n"
      ],
      "metadata": {
        "id": "w_nTotnV8yn9"
      },
      "execution_count": null,
      "outputs": []
    },
    {
      "cell_type": "code",
      "source": [
        "sns.distplot(dataset[dataset['MILES']<40]['MILES'])\n"
      ],
      "metadata": {
        "id": "aQyVclBe80gy"
      },
      "execution_count": null,
      "outputs": []
    }
  ]
}